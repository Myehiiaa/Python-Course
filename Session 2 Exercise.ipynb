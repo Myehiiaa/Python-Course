{
 "cells": [
  {
   "cell_type": "code",
   "execution_count": 80,
   "id": "a7f1ed2c",
   "metadata": {},
   "outputs": [
    {
     "name": "stdout",
     "output_type": "stream",
     "text": [
      "1\n",
      "2\n",
      "3\n",
      "4\n",
      "5\n",
      "6\n",
      "7\n",
      "8\n",
      "9\n",
      "10\n"
     ]
    }
   ],
   "source": [
    "# Exercise 1: Print First 10 natural numbers using while loop\n",
    "\n",
    "no = int(0)\n",
    "\n",
    "while no < 10:\n",
    "    no = no + 1\n",
    "    print(no)\n"
   ]
  },
  {
   "cell_type": "code",
   "execution_count": 26,
   "id": "4032b410",
   "metadata": {},
   "outputs": [
    {
     "name": "stdout",
     "output_type": "stream",
     "text": [
      "[100, 200, 300, 400, 500]\n"
     ]
    }
   ],
   "source": [
    "# Exercise 2: Reverse this list [500, 400, 300, 200, 100] in Python\n",
    "\n",
    "List = [500, 400, 300, 200, 100]\n",
    "\n",
    "List.reverse()\n",
    "\n",
    "print(List)"
   ]
  },
  {
   "cell_type": "code",
   "execution_count": 28,
   "id": "e9baff9a",
   "metadata": {},
   "outputs": [
    {
     "name": "stdout",
     "output_type": "stream",
     "text": [
      "428\n"
     ]
    }
   ],
   "source": [
    "# Exercise 3: Calculate the sum of all numbers in the following list [55,32,75,86,49,11,120]\n",
    "\n",
    "List = [55,32,75,86,49,11,120]\n",
    "\n",
    "result = sum(List)\n",
    "\n",
    "print(result)"
   ]
  },
  {
   "cell_type": "code",
   "execution_count": 46,
   "id": "52d7eb33",
   "metadata": {},
   "outputs": [
    {
     "name": "stdout",
     "output_type": "stream",
     "text": [
      "[6, 12, 18, 12, 20, 28]\n"
     ]
    }
   ],
   "source": [
    "#Exercise 4: Create a list by picking an odd-index items from the first list and even index items from the second\n",
    "#Given two lists, l1 and l2, write a program to create a third list l3 by picking an odd-index element from the list l1 and even index elements from the list l2.\n",
    "\n",
    "l1 = [3, 6, 9, 12, 15, 18, 21]\n",
    "l2 = [4, 8, 12, 16, 20, 24, 28]\n",
    "\n",
    "odd = l1[1::2]\n",
    "even = l2[2::2]\n",
    "\n",
    "result = odd + even\n",
    "\n",
    "print(result)\n"
   ]
  },
  {
   "cell_type": "code",
   "execution_count": 78,
   "id": "e9d3d6e0",
   "metadata": {},
   "outputs": [
    {
     "name": "stdout",
     "output_type": "stream",
     "text": [
      "10\n",
      "20\n",
      "55\n"
     ]
    }
   ],
   "source": [
    "# Exercise 5: Display numbers divisible by 5 from a list [10, 20, 33, 46, 55]\n",
    "\n",
    "List = [10, 20, 33, 46, 55]\n",
    "\n",
    "for i in (list):\n",
    "    if i % 5 == 0:\n",
    "        print(i)\n"
   ]
  }
 ],
 "metadata": {
  "kernelspec": {
   "display_name": "Python 3 (ipykernel)",
   "language": "python",
   "name": "python3"
  },
  "language_info": {
   "codemirror_mode": {
    "name": "ipython",
    "version": 3
   },
   "file_extension": ".py",
   "mimetype": "text/x-python",
   "name": "python",
   "nbconvert_exporter": "python",
   "pygments_lexer": "ipython3",
   "version": "3.9.13"
  }
 },
 "nbformat": 4,
 "nbformat_minor": 5
}
