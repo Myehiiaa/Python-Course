{
 "cells": [
  {
   "cell_type": "code",
   "execution_count": 9,
   "id": "e7f8beeb",
   "metadata": {},
   "outputs": [
    {
     "name": "stdout",
     "output_type": "stream",
     "text": [
      "Enter the 1st No: 5\n",
      "Enter the 2nd No: 5\n",
      "(10, 25)\n"
     ]
    }
   ],
   "source": [
    "# Exercise 1: Calculate the multiplication and sum of two numbers that you accept from user\n",
    "\n",
    "x = int(input(\"Enter the 1st No: \"))\n",
    "\n",
    "y = int(input(\"Enter the 2nd No: \"))\n",
    "\n",
    "result = (x+y, x*y)\n",
    "\n",
    "print(result)\n"
   ]
  },
  {
   "cell_type": "code",
   "execution_count": 11,
   "id": "09255911",
   "metadata": {},
   "outputs": [
    {
     "name": "stdout",
     "output_type": "stream",
     "text": [
      "Name**Is**James\n"
     ]
    }
   ],
   "source": [
    "# Exercise 2: Display three string “Name”, “Is”, “James” as “Name**Is**James”\n",
    "\n",
    "print(\"Name\",\"Is\",\"James\", sep=\"**\")"
   ]
  },
  {
   "cell_type": "code",
   "execution_count": 12,
   "id": "8c4b4b8e",
   "metadata": {},
   "outputs": [
    {
     "name": "stdout",
     "output_type": "stream",
     "text": [
      "Hello World\n"
     ]
    }
   ],
   "source": [
    "# Exercise 3: Print \"Hello World\" if a is greater than b.\n",
    "\n",
    "a = 10\n",
    "b = 5\n",
    "\n",
    "if a > b:\n",
    "    print(\"Hello World\")"
   ]
  },
  {
   "cell_type": "code",
   "execution_count": 18,
   "id": "5ba1d04e",
   "metadata": {},
   "outputs": [
    {
     "name": "stdout",
     "output_type": "stream",
     "text": [
      "Enter Grade: 70\n",
      "Grade is C\n"
     ]
    }
   ],
   "source": [
    "# Exercise 4: Write a program to accept percentage from the user and display the grade according to the following:\n",
    "# mark is greater than 90 grade : A\n",
    "# mark is between 80 and 90 grade : B\n",
    "# mark is between 60 and 80 grade : C\n",
    "# mark is below 60 grade : D \n",
    "\n",
    "grade = int(input(\"Enter Grade: \"))\n",
    "\n",
    "if grade < 60:\n",
    "    print(\"Grade is D\")\n",
    "elif grade >= 60 and grade < 80:\n",
    "    print(\"Grade is C\")\n",
    "elif grade >= 80 and grade < 90:\n",
    "    print(\"Grade is B\")\n",
    "elif grade >= 90:\n",
    "    print(\"Grade is A\")"
   ]
  },
  {
   "cell_type": "code",
   "execution_count": 20,
   "id": "35928743",
   "metadata": {},
   "outputs": [
    {
     "name": "stdout",
     "output_type": "stream",
     "text": [
      "Enter the number: 4\n",
      "Tuseday\n"
     ]
    }
   ],
   "source": [
    "# Exercise 5: Write a program to accept a number from 1 to 7 and display the name of the day,\n",
    "# examples, 1 for Saturday , 2 for Sunday...etc\n",
    "\n",
    "day = int(input(\"Enter the number: \"))\n",
    "\n",
    "if day == 1:\n",
    "    print(\"Saturday\")\n",
    "elif day == 2:\n",
    "    print(\"Sunday\")\n",
    "elif day == 3:\n",
    "    print(\"Monday\")\n",
    "elif day == 4:\n",
    "    print(\"Tuseday\")\n",
    "elif day == 5:\n",
    "    print(\"Wednesday\")\n",
    "elif day == 6:\n",
    "    print(\"Thuresday\")\n",
    "elif day == 7:\n",
    "    print(\"Friday\")\n",
    "else:\n",
    "    print(\"Wrong No\")"
   ]
  }
 ],
 "metadata": {
  "kernelspec": {
   "display_name": "Python 3 (ipykernel)",
   "language": "python",
   "name": "python3"
  },
  "language_info": {
   "codemirror_mode": {
    "name": "ipython",
    "version": 3
   },
   "file_extension": ".py",
   "mimetype": "text/x-python",
   "name": "python",
   "nbconvert_exporter": "python",
   "pygments_lexer": "ipython3",
   "version": "3.9.13"
  }
 },
 "nbformat": 4,
 "nbformat_minor": 5
}
